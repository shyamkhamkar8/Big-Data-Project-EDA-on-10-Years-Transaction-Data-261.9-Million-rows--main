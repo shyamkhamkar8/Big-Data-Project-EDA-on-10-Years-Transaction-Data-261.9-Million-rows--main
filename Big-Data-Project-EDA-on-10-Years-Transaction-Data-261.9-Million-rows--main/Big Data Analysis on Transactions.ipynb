{
 "cells": [
  {
   "cell_type": "markdown",
   "id": "7db297df",
   "metadata": {},
   "source": [
    "# Understanding SparkContext\n",
    "\n",
    "- A `SparkContext` represents the entry point to Spark functionality. It's like a key to your car. PySpark automatically creates a `SparkContext` for you in the `PySpark` shell (so you don't have to create it by yourself) and is exposed via a variable `sc`.\n",
    "\n",
    "- In this simple exercise, you'll find out the attributes of the `SparkContext` in your PySpark shell which you'll be using for the rest of the course."
   ]
  },
  {
   "cell_type": "markdown",
   "id": "462c11ee",
   "metadata": {},
   "source": [
    "## Instructions\n",
    "- Print the version of `SparkContext` in the PySpark shell.\n",
    "- Print the Python version of `SparkContext` in the PySpark shell.\n",
    "- What is the master of SparkContext in the PySpark shell?"
   ]
  },
  {
   "cell_type": "code",
   "execution_count": 59,
   "id": "24bc5dd4",
   "metadata": {},
   "outputs": [],
   "source": [
    "# Intialization\n",
    "import os\n",
    "import sys\n",
    "\n",
    "os.environ[\"SPARK_HOME\"] = \"/home/talentum/spark\"\n",
    "os.environ[\"PYLIB\"] = os.environ[\"SPARK_HOME\"] + \"/python/lib\"\n",
    "# In below two lines, use /usr/bin/python2.7 if you want to use Python 2\n",
    "os.environ[\"PYSPARK_PYTHON\"] = \"/usr/bin/python3.6\" \n",
    "os.environ[\"PYSPARK_DRIVER_PYTHON\"] = \"/usr/bin/python3\"\n",
    "sys.path.insert(0, os.environ[\"PYLIB\"] +\"/py4j-0.10.7-src.zip\")\n",
    "sys.path.insert(0, os.environ[\"PYLIB\"] +\"/pyspark.zip\")\n",
    "\n",
    "# NOTE: Whichever package you want mention here.\n",
    "# os.environ['PYSPARK_SUBMIT_ARGS'] = '--packages com.databricks:spark-xml_2.11:0.6.0 pyspark-shell' \n",
    "# os.environ['PYSPARK_SUBMIT_ARGS'] = '--packages org.apache.spark:spark-avro_2.11:2.4.0 pyspark-shell'\n",
    "os.environ['PYSPARK_SUBMIT_ARGS'] = '--packages com.databricks:spark-xml_2.11:0.6.0,org.apache.spark:spark-avro_2.11:2.4.3 pyspark-shell'\n",
    "# os.environ['PYSPARK_SUBMIT_ARGS'] = '--packages com.databricks:spark-xml_2.11:0.6.0,org.apache.spark:spark-avro_2.11:2.4.0 pyspark-shell'"
   ]
  },
  {
   "cell_type": "code",
   "execution_count": 60,
   "id": "6cc69a92",
   "metadata": {},
   "outputs": [],
   "source": [
    "#Entrypoint 2.x\n",
    "from pyspark.sql import SparkSession\n",
    "#spark = SparkSession.builder.appName(\"Spark SQL basic example\").enableHiveSupport().getOrCreate()\n",
    "spark = SparkSession.builder.appName(\"ParquetLoader\").getOrCreate()\n",
    "\n",
    "# On yarn:\n",
    "# spark = SparkSession.builder.appName(\"Spark SQL basic example\").enableHiveSupport().master(\"yarn\").getOrCreate()\n",
    "# specify .master(\"yarn\")\n",
    "\n",
    "sc = spark.sparkContext"
   ]
  },
  {
   "cell_type": "code",
   "execution_count": 66,
   "id": "7ed83204",
   "metadata": {
    "scrolled": true
   },
   "outputs": [],
   "source": [
    "df = spark.read.parquet(\"/data_parquet/Savings/file.parquet\")\n",
    "#df = spark.read.parquet(\"hdfs://localhost:9000/data/file.parquet\")\n",
    "#df = spark.read.csv(\"/1.txt\")\n"
   ]
  },
  {
   "cell_type": "code",
   "execution_count": 62,
   "id": "ddfecfe4",
   "metadata": {},
   "outputs": [
    {
     "name": "stdout",
     "output_type": "stream",
     "text": [
      "+----------+----------+--------+---------------+----------+----+-----+---+------+\n",
      "|   cust_id|start_date|end_date|       trans_id|      date|year|month|day|amount|\n",
      "+----------+----------+--------+---------------+----------+----+-----+---+------+\n",
      "|CI6XLYUMQK|2015-05-01|        |TVVQUIQYIHEK5QR|2019-08-07|2019|    8|  7| 56.37|\n",
      "|CI6XLYUMQK|2015-05-01|        |TS6S4FUUAOSAQYS|2020-11-01|2020|   11|  1|108.03|\n",
      "|CI6XLYUMQK|2015-05-01|        |TWCMZ0Y64G2Y678|2017-02-02|2017|    2|  2|  46.4|\n",
      "|CI6XLYUMQK|2015-05-01|        |TULILEKRT5YXMLU|2017-06-14|2017|    6| 14| 83.26|\n",
      "|CI6XLYUMQK|2015-05-01|        |TQE2PBES0CNUQZN|2018-08-13|2018|    8| 13| 54.31|\n",
      "|CI6XLYUMQK|2015-05-01|        |T3MDSUNY6W13SRH|2017-12-01|2017|   12|  1| 76.93|\n",
      "|CI6XLYUMQK|2015-05-01|        |TM1839JYXJLNAOH|2019-10-24|2019|   10| 24| 162.0|\n",
      "|CI6XLYUMQK|2015-05-01|        |TWGI1XNVSVCIO0V|2017-10-03|2017|   10|  3|146.92|\n",
      "|CI6XLYUMQK|2015-05-01|        |T7QRXSQROKVBCSX|2016-08-12|2016|    8| 12| 74.66|\n",
      "|CI6XLYUMQK|2015-05-01|        |TNSPIH8EF7QY0X3|2020-10-18|2020|   10| 18| 92.51|\n",
      "|CI6XLYUMQK|2015-05-01|        |T6AWW9A2K20UPLB|2019-11-19|2019|   11| 19| 73.59|\n",
      "|CI6XLYUMQK|2015-05-01|        |T9JHPCBXTBTXOR1|2018-02-25|2018|    2| 25| 53.29|\n",
      "|CI6XLYUMQK|2015-05-01|        |T3XCVGR20WBQLVD|2019-08-01|2019|    8|  1|  54.5|\n",
      "|CI6XLYUMQK|2015-05-01|        |TWN682T1KFP13ON|2018-06-16|2018|    6| 16| 214.4|\n",
      "|CI6XLYUMQK|2015-05-01|        |TFZXVASO24YVDQT|2017-07-07|2017|    7|  7| 56.65|\n",
      "|CI6XLYUMQK|2015-05-01|        |TR7HDXXKI1JKJ9A|2019-08-08|2019|    8|  8| 56.13|\n",
      "|CI6XLYUMQK|2015-05-01|        |T1ZHAWNUEJRGKVI|2019-12-12|2019|   12| 12| 82.53|\n",
      "|CI6XLYUMQK|2015-05-01|        |T5A475MLQK3BCHB|2015-07-23|2015|    7| 23| 89.64|\n",
      "|CI6XLYUMQK|2015-05-01|        |T604RQZ4Q8R4U7Q|2020-10-12|2020|   10| 12| 86.58|\n",
      "|CI6XLYUMQK|2015-05-01|        |TG77D6YBEMRPM1C|2019-04-12|2019|    4| 12| 69.11|\n",
      "+----------+----------+--------+---------------+----------+----+-----+---+------+\n",
      "only showing top 20 rows\n",
      "\n"
     ]
    }
   ],
   "source": [
    "df.show()"
   ]
  },
  {
   "cell_type": "code",
   "execution_count": 41,
   "id": "07d1ac9f",
   "metadata": {},
   "outputs": [
    {
     "name": "stdout",
     "output_type": "stream",
     "text": [
      "root\n",
      " |-- cust_id: string (nullable = true)\n",
      " |-- start_date: string (nullable = true)\n",
      " |-- end_date: string (nullable = true)\n",
      " |-- trans_id: string (nullable = true)\n",
      " |-- date: string (nullable = true)\n",
      " |-- year: long (nullable = true)\n",
      " |-- month: long (nullable = true)\n",
      " |-- day: long (nullable = true)\n",
      " |-- amount: double (nullable = true)\n",
      "\n"
     ]
    }
   ],
   "source": [
    "df.printSchema()"
   ]
  },
  {
   "cell_type": "code",
   "execution_count": 50,
   "id": "647db844",
   "metadata": {},
   "outputs": [
    {
     "name": "stdout",
     "output_type": "stream",
     "text": [
      "+-------+------------------+\n",
      "|summary|            amount|\n",
      "+-------+------------------+\n",
      "|  count|           7762038|\n",
      "|   mean|179.36878004462466|\n",
      "| stddev| 233.4165596596204|\n",
      "|    min|               0.4|\n",
      "|    max|           4319.49|\n",
      "+-------+------------------+\n",
      "\n"
     ]
    }
   ],
   "source": [
    "df.describe().select(['summary','amount']).show()"
   ]
  },
  {
   "cell_type": "code",
   "execution_count": 5,
   "id": "4d4fefec",
   "metadata": {},
   "outputs": [],
   "source": [
    "df.createOrReplaceTempView(\"data_analysis\")"
   ]
  },
  {
   "cell_type": "code",
   "execution_count": 11,
   "id": "c56f13e3",
   "metadata": {},
   "outputs": [
    {
     "data": {
      "text/plain": [
       "[Row(count(1)=7762038)]"
      ]
     },
     "execution_count": 11,
     "metadata": {},
     "output_type": "execute_result"
    }
   ],
   "source": [
    "df1 = spark.sql(\"SELECT count(*) from data_analysis where end_date is NULL\")\n",
    "df1.collect()"
   ]
  },
  {
   "cell_type": "code",
   "execution_count": 13,
   "id": "b764e07f",
   "metadata": {},
   "outputs": [
    {
     "name": "stdout",
     "output_type": "stream",
     "text": [
      "+----------+----------+--------+---------------+----------+----+-----+---+------+\n",
      "|   cust_id|start_date|end_date|       trans_id|      date|year|month|day|amount|\n",
      "+----------+----------+--------+---------------+----------+----+-----+---+------+\n",
      "|CI6XLYUMQK|2015-05-01|        |TVVQUIQYIHEK5QR|2019-08-07|2019|    8|  7| 56.37|\n",
      "|CI6XLYUMQK|2015-05-01|        |TS6S4FUUAOSAQYS|2020-11-01|2020|   11|  1|108.03|\n",
      "|CI6XLYUMQK|2015-05-01|        |TWCMZ0Y64G2Y678|2017-02-02|2017|    2|  2|  46.4|\n",
      "|CI6XLYUMQK|2015-05-01|        |TULILEKRT5YXMLU|2017-06-14|2017|    6| 14| 83.26|\n",
      "|CI6XLYUMQK|2015-05-01|        |TQE2PBES0CNUQZN|2018-08-13|2018|    8| 13| 54.31|\n",
      "|CI6XLYUMQK|2015-05-01|        |T3MDSUNY6W13SRH|2017-12-01|2017|   12|  1| 76.93|\n",
      "|CI6XLYUMQK|2015-05-01|        |TM1839JYXJLNAOH|2019-10-24|2019|   10| 24| 162.0|\n",
      "|CI6XLYUMQK|2015-05-01|        |TWGI1XNVSVCIO0V|2017-10-03|2017|   10|  3|146.92|\n",
      "|CI6XLYUMQK|2015-05-01|        |T7QRXSQROKVBCSX|2016-08-12|2016|    8| 12| 74.66|\n",
      "|CI6XLYUMQK|2015-05-01|        |TNSPIH8EF7QY0X3|2020-10-18|2020|   10| 18| 92.51|\n",
      "|CI6XLYUMQK|2015-05-01|        |T6AWW9A2K20UPLB|2019-11-19|2019|   11| 19| 73.59|\n",
      "|CI6XLYUMQK|2015-05-01|        |T9JHPCBXTBTXOR1|2018-02-25|2018|    2| 25| 53.29|\n",
      "|CI6XLYUMQK|2015-05-01|        |T3XCVGR20WBQLVD|2019-08-01|2019|    8|  1|  54.5|\n",
      "|CI6XLYUMQK|2015-05-01|        |TWN682T1KFP13ON|2018-06-16|2018|    6| 16| 214.4|\n",
      "|CI6XLYUMQK|2015-05-01|        |TFZXVASO24YVDQT|2017-07-07|2017|    7|  7| 56.65|\n",
      "|CI6XLYUMQK|2015-05-01|        |TR7HDXXKI1JKJ9A|2019-08-08|2019|    8|  8| 56.13|\n",
      "|CI6XLYUMQK|2015-05-01|        |T1ZHAWNUEJRGKVI|2019-12-12|2019|   12| 12| 82.53|\n",
      "|CI6XLYUMQK|2015-05-01|        |T5A475MLQK3BCHB|2015-07-23|2015|    7| 23| 89.64|\n",
      "|CI6XLYUMQK|2015-05-01|        |T604RQZ4Q8R4U7Q|2020-10-12|2020|   10| 12| 86.58|\n",
      "|CI6XLYUMQK|2015-05-01|        |TG77D6YBEMRPM1C|2019-04-12|2019|    4| 12| 69.11|\n",
      "+----------+----------+--------+---------------+----------+----+-----+---+------+\n",
      "only showing top 20 rows\n",
      "\n"
     ]
    }
   ],
   "source": [
    "df.show()"
   ]
  },
  {
   "cell_type": "code",
   "execution_count": 67,
   "id": "efc3d172",
   "metadata": {},
   "outputs": [
    {
     "name": "stdout",
     "output_type": "stream",
     "text": [
      "+----------+----------+---------------+----------+----+-----+---+------+\n",
      "|   cust_id|start_date|       trans_id|      date|year|month|day|amount|\n",
      "+----------+----------+---------------+----------+----+-----+---+------+\n",
      "|CI6XLYUMQK|2015-05-01|T6TYXHDKMA4XWFQ|2019-10-01|2019|   10|  1|104.02|\n",
      "|CI6XLYUMQK|2015-05-01|TGB9D2A2987RWA5|2016-11-09|2016|   11|  9| 37.66|\n",
      "|CI6XLYUMQK|2015-05-01|TH0135O7BZ4OKQ2|2019-05-01|2019|    5|  1| 73.81|\n",
      "|CI6XLYUMQK|2015-05-01|TL4JWOPGCM8LFP5|2020-10-24|2020|   10| 24| 38.06|\n",
      "|CI6XLYUMQK|2015-05-01|TTZM5V3A24LVK52|2015-08-04|2015|    8|  4| 50.26|\n",
      "+----------+----------+---------------+----------+----+-----+---+------+\n",
      "only showing top 5 rows\n",
      "\n"
     ]
    }
   ],
   "source": [
    "#due to the full column has null value we are droping the column\n",
    "df1=df.drop('end_date')\n",
    "df1.show(5)"
   ]
  },
  {
   "cell_type": "code",
   "execution_count": 68,
   "id": "a689db9a",
   "metadata": {},
   "outputs": [
    {
     "name": "stdout",
     "output_type": "stream",
     "text": [
      "+----------+----------+---------------+----------+------+\n",
      "|   cust_id|start_date|       trans_id|      date|amount|\n",
      "+----------+----------+---------------+----------+------+\n",
      "|CI6XLYUMQK|2015-05-01|T6TYXHDKMA4XWFQ|2019-10-01|104.02|\n",
      "|CI6XLYUMQK|2015-05-01|TGB9D2A2987RWA5|2016-11-09| 37.66|\n",
      "|CI6XLYUMQK|2015-05-01|TH0135O7BZ4OKQ2|2019-05-01| 73.81|\n",
      "|CI6XLYUMQK|2015-05-01|TL4JWOPGCM8LFP5|2020-10-24| 38.06|\n",
      "|CI6XLYUMQK|2015-05-01|TTZM5V3A24LVK52|2015-08-04| 50.26|\n",
      "+----------+----------+---------------+----------+------+\n",
      "only showing top 5 rows\n",
      "\n"
     ]
    }
   ],
   "source": [
    "#we have date column which is again subdivided to year,month and day so we are droping year,month and day column to improve query performance\n",
    "df1=df1.drop('year','month','day')\n",
    "df1.show(5)"
   ]
  },
  {
   "cell_type": "code",
   "execution_count": 69,
   "id": "58fd45ef",
   "metadata": {},
   "outputs": [
    {
     "name": "stdout",
     "output_type": "stream",
     "text": [
      "+--------+\n",
      "|count(1)|\n",
      "+--------+\n",
      "|   28079|\n",
      "+--------+\n",
      "\n"
     ]
    }
   ],
   "source": [
    "df1.createOrReplaceTempView(\"data_analysis1\")\n",
    "df2 = spark.sql(\"select count(*) from (SELECT distinct(cust_id) from data_analysis1)\")\n",
    "df2.show(5)"
   ]
  },
  {
   "cell_type": "code",
   "execution_count": 70,
   "id": "261ee32f",
   "metadata": {},
   "outputs": [
    {
     "name": "stdout",
     "output_type": "stream",
     "text": [
      "+----------+----------+---------------+----------+-------+\n",
      "|   cust_id|start_date|       trans_id|      date| amount|\n",
      "+----------+----------+---------------+----------+-------+\n",
      "|C000TDGP4R|2017-07-01|TCN8DU7IIPXXITZ|2017-08-27| 293.81|\n",
      "|C000TDGP4R|2017-07-01|T6JCPBW0DEZCW5D|2017-08-27| 528.93|\n",
      "|C000TDGP4R|2017-07-01|TA0BSXWF1TMQA13|2017-09-14| 739.58|\n",
      "|C000TDGP4R|2017-07-01|THF2IHDCNFWHSCE|2017-09-26| 755.15|\n",
      "|C000TDGP4R|2017-07-01|TBIOCTWZS3MMR8X|2017-10-07| 564.97|\n",
      "|C000TDGP4R|2017-07-01|TLFXR81YMOXMZS6|2017-10-08| 605.41|\n",
      "|C000TDGP4R|2017-07-01|T65VY93AG2FYFVW|2018-01-22|  946.4|\n",
      "|C000TDGP4R|2017-07-01|TT51BP8LD0KE44S|2018-02-21|1246.69|\n",
      "|C000TDGP4R|2017-07-01|TZO7NNC5K2BW398|2018-03-17|1075.41|\n",
      "|C000TDGP4R|2017-07-01|TSS6UJZ3DNKH4KC|2018-06-12| 703.56|\n",
      "|C000TDGP4R|2017-07-01|TNQ7WIKQITGMYLZ|2018-07-23| 604.31|\n",
      "|C000TDGP4R|2017-07-01|TAFN40488EWOJVS|2018-07-24| 673.62|\n",
      "|C000TDGP4R|2017-07-01|TP84BK2DZW5OUV3|2018-08-16|1072.94|\n",
      "|C000TDGP4R|2017-07-01|T64UPWEDWUI4KHK|2018-10-10|  402.7|\n",
      "|C000TDGP4R|2017-07-01|TBCENSRQQTMM5NE|2018-10-23| 399.39|\n",
      "|C000TDGP4R|2017-07-01|TQ92GU6MOJ5YYPF|2018-12-17| 568.41|\n",
      "|C000TDGP4R|2017-07-01|TWKMNAQFSEDZ89J|2019-01-20| 308.56|\n",
      "|C000TDGP4R|2017-07-01|TUH6P4YRIW1WKHO|2019-01-21| 794.56|\n",
      "|C000TDGP4R|2017-07-01|THFXRC7C2OPO3O2|2019-02-20| 744.37|\n",
      "|C000TDGP4R|2017-07-01|TEO8XVRY1KVU3N3|2019-02-27| 361.98|\n",
      "+----------+----------+---------------+----------+-------+\n",
      "only showing top 20 rows\n",
      "\n"
     ]
    }
   ],
   "source": [
    "df1.createOrReplaceTempView(\"data_analysis1\")\n",
    "df3 = spark.sql(\"select * from data_analysis1 order by cust_id,date,amount\")\n",
    "df3.show()"
   ]
  },
  {
   "cell_type": "code",
   "execution_count": null,
   "id": "aec9ab3b",
   "metadata": {},
   "outputs": [],
   "source": [
    "df3.createOrReplaceTempView(\"data_analysis3\")\n",
    "\n",
    "spark.sql(\"SELECT * FROM data_analysis3\").write.csv(\"1st.csv\") # this generated csv in multiple files"
   ]
  },
  {
   "cell_type": "code",
   "execution_count": 71,
   "id": "8b78b9a2",
   "metadata": {},
   "outputs": [],
   "source": [
    "# COALESCE() HELPS TO CONVERT MULTIPLE FILES TO MIN MENTIONED FILES\n",
    "df3.coalesce(1).write.format('csv').option('header', 'true').save('savings.csv')\n"
   ]
  },
  {
   "cell_type": "code",
   "execution_count": null,
   "id": "4512215d",
   "metadata": {},
   "outputs": [],
   "source": [
    "'''\n",
    "from pyspark.sql.functions import isnull, sum\n",
    "\n",
    "null_counts = df3.select([sum(isnull('date'))])\n",
    "null_counts.collect()\n",
    "'''"
   ]
  },
  {
   "cell_type": "code",
   "execution_count": null,
   "id": "9aeaf6c5",
   "metadata": {},
   "outputs": [],
   "source": []
  }
 ],
 "metadata": {
  "kernelspec": {
   "display_name": "Python 3",
   "language": "python",
   "name": "python3"
  },
  "language_info": {
   "codemirror_mode": {
    "name": "ipython",
    "version": 3
   },
   "file_extension": ".py",
   "mimetype": "text/x-python",
   "name": "python",
   "nbconvert_exporter": "python",
   "pygments_lexer": "ipython3",
   "version": "3.6.9"
  }
 },
 "nbformat": 4,
 "nbformat_minor": 5
}
